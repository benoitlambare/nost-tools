{
 "cells": [
  {
   "cell_type": "code",
   "execution_count": 1,
   "metadata": {},
   "outputs": [
    {
     "name": "stderr",
     "output_type": "stream",
     "text": [
      "INFO:nost_tools.application:Contacting pool.ntp.org to retrieve wallclock offset.\n",
      "INFO:nost_tools.application:Wallclock offset updated to 0:00:00.006503.\n",
      "INFO:nost_tools.application:Access token successfully acquired.\n",
      "INFO:pika.adapters.utils.connection_workflow:Pika version 1.3.2 connecting to ('127.0.0.1', 5672)\n",
      "INFO:pika.adapters.utils.io_services_utils:Socket connected: <socket.socket fd=75, family=2, type=1, proto=6, laddr=('127.0.0.1', 53888), raddr=('127.0.0.1', 5672)>\n",
      "INFO:pika.adapters.utils.connection_workflow:Streaming transport linked up: (<pika.adapters.utils.io_services_utils._AsyncPlaintextTransport object at 0x7fcdea5a1070>, _StreamingProtocolShim: <SelectConnection PROTOCOL transport=<pika.adapters.utils.io_services_utils._AsyncPlaintextTransport object at 0x7fcdea5a1070> params=<ConnectionParameters host=localhost port=5672 virtual_host=/ ssl=False>>).\n",
      "INFO:pika.adapters.utils.connection_workflow:AMQPConnector - reporting success: <SelectConnection OPEN transport=<pika.adapters.utils.io_services_utils._AsyncPlaintextTransport object at 0x7fcdea5a1070> params=<ConnectionParameters host=localhost port=5672 virtual_host=/ ssl=False>>\n",
      "INFO:pika.adapters.utils.connection_workflow:AMQPConnectionWorkflow - reporting success: <SelectConnection OPEN transport=<pika.adapters.utils.io_services_utils._AsyncPlaintextTransport object at 0x7fcdea5a1070> params=<ConnectionParameters host=localhost port=5672 virtual_host=/ ssl=False>>\n",
      "INFO:pika.adapters.blocking_connection:Connection workflow succeeded: <SelectConnection OPEN transport=<pika.adapters.utils.io_services_utils._AsyncPlaintextTransport object at 0x7fcdea5a1070> params=<ConnectionParameters host=localhost port=5672 virtual_host=/ ssl=False>>\n",
      "INFO:nost_tools.application:Connection established successfully.\n",
      "INFO:pika.adapters.blocking_connection:Created channel=1\n",
      "INFO:nost_tools.application:Application test successfully started up.\n",
      "INFO:nost_tools.application:Successfully sent time status {\"name\":\"test\",\"properties\":{\"ready\":true}}.\n",
      "INFO:nost_tools.application:Publishing to topic nost.test.status.time: This is a test message - confirming.\n"
     ]
    },
    {
     "name": "stdout",
     "output_type": "stream",
     "text": [
      "nost.test.status.time\n"
     ]
    }
   ],
   "source": [
    "import logging\n",
    "from datetime import datetime, timedelta, timezone\n",
    "from nost_tools import application\n",
    "from nost_tools.application_utils import ConnectionConfig, ShutDownObserver\n",
    "from dotenv import dotenv_values\n",
    "# from nost_tools.manager import Manager\n",
    "\n",
    "# Define the callback function\n",
    "def message_callback(ch, method, properties, body):\n",
    "    print(f\"Received message: {body}\")\n",
    "\n",
    "\n",
    "# Set up logging\n",
    "logging.basicConfig(level=logging.INFO)\n",
    "\n",
    "\n",
    "# Set the prefix=exchange\n",
    "PREFIX = 'nost'\n",
    "\n",
    "# Load credentials from a .env file in current working directory\n",
    "credentials = dotenv_values(\".env\")\n",
    "HOST, PORT = credentials[\"HOST\"], int(credentials[\"PORT\"])\n",
    "USERNAME, PASSWORD = credentials[\"USERNAME\"], credentials[\"PASSWORD\"]\n",
    "CLIENT_ID = credentials[\"CLIENT_ID\"]\n",
    "CLIENT_SECRET_KEY = credentials[\"CLIENT_SECRET_KEY\"]\n",
    "VIRTUAL_HOST = credentials[\"VIRTUAL_HOST\"]\n",
    "IS_TLS = credentials[\"IS_TLS\"].lower() == 'true'  # Convert to boolean\n",
    "\n",
    "# Set the client credentials from the config file\n",
    "config = ConnectionConfig(\n",
    "    USERNAME,\n",
    "    PASSWORD,\n",
    "    HOST,\n",
    "    PORT,\n",
    "    CLIENT_ID,\n",
    "    CLIENT_SECRET_KEY,\n",
    "    VIRTUAL_HOST,\n",
    "    IS_TLS)\n",
    "\n",
    "# create the manager application from the template in the tools library\n",
    "# manager = Manager()\n",
    "app = application.Application(app_name='test')\n",
    "\n",
    "# add a shutdown observer to shut down after a single test case\n",
    "# manager.simulator.add_observer(ShutDownObserver(manager))\n",
    "app.simulator.add_observer(ShutDownObserver(app))\n",
    "\n",
    "# start up the manager on PREFIX from config file\n",
    "# manager.start_up(PREFIX, config, True)\n",
    "app.start_up(PREFIX, config, True)\n",
    "\n",
    "# Send ready message\n",
    "app.ready()\n",
    "\n",
    "# Send message to specific topic\n",
    "app.send_message('status.time', 'This is a test message - confirming.')\n",
    "\n",
    "# # Add the callback to the application\n",
    "# app.add_message_callback(app_name='test', app_topic='status.time', callback=message_callback)"
   ]
  },
  {
   "cell_type": "code",
   "execution_count": null,
   "metadata": {},
   "outputs": [],
   "source": []
  },
  {
   "cell_type": "code",
   "execution_count": null,
   "metadata": {},
   "outputs": [],
   "source": []
  },
  {
   "cell_type": "code",
   "execution_count": null,
   "metadata": {},
   "outputs": [],
   "source": []
  },
  {
   "cell_type": "code",
   "execution_count": null,
   "metadata": {},
   "outputs": [],
   "source": []
  }
 ],
 "metadata": {
  "kernelspec": {
   "display_name": "nost",
   "language": "python",
   "name": "python3"
  },
  "language_info": {
   "codemirror_mode": {
    "name": "ipython",
    "version": 3
   },
   "file_extension": ".py",
   "mimetype": "text/x-python",
   "name": "python",
   "nbconvert_exporter": "python",
   "pygments_lexer": "ipython3",
   "version": "3.12.4"
  }
 },
 "nbformat": 4,
 "nbformat_minor": 2
}
