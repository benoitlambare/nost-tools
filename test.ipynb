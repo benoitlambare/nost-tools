{
 "cells": [
  {
   "cell_type": "code",
   "execution_count": 1,
   "metadata": {},
   "outputs": [],
   "source": [
    "import logging\n",
    "from datetime import datetime, timedelta, timezone\n",
    "from nost_tools import application\n",
    "from nost_tools.application_utils import ConnectionConfig, ShutDownObserver\n",
    "from dotenv import dotenv_values\n",
    "# from nost_tools.manager import Manager\n",
    "\n",
    "PREFIX = 'test'\n",
    "\n",
    "# # The test suite event prefix, time scale, and any updated time scales go in the config.py file\n",
    "# from manager_config_files.config import (\n",
    "#     PREFIX,\n",
    "#     SCALE,\n",
    "#     UPDATE,\n",
    "# )\n",
    "\n",
    "logging.basicConfig(level=logging.INFO)"
   ]
  },
  {
   "cell_type": "code",
   "execution_count": 2,
   "metadata": {},
   "outputs": [],
   "source": [
    "# # Note that these are loaded from a .env file in current working directory\n",
    "# credentials = dotenv_values(\".env\")\n",
    "# HOST, PORT = credentials[\"HOST\"], int(credentials[\"PORT\"])\n",
    "# USERNAME, PASSWORD = credentials[\"USERNAME\"], credentials[\"PASSWORD\"]\n",
    "\n",
    "# # set the client credentials from the config file\n",
    "# config = ConnectionConfig(USERNAME, PASSWORD, HOST, PORT, True)\n",
    "\n",
    "# app = application.Application(app_name='emmanuel')\n",
    "# app.start_up(prefix='emmanuel', config=)"
   ]
  },
  {
   "cell_type": "code",
   "execution_count": 3,
   "metadata": {},
   "outputs": [
    {
     "name": "stderr",
     "output_type": "stream",
     "text": [
      "INFO:nost_tools.application:Contacting pool.ntp.org to retrieve wallclock offset.\n",
      "INFO:nost_tools.application:Wallclock offset updated to 0:00:00.008983.\n",
      "INFO:nost_tools.application:Access token successfully received.\n",
      "INFO:pika.adapters.utils.connection_workflow:Pika version 1.3.2 connecting to ('127.0.0.1', 5672)\n",
      "INFO:pika.adapters.utils.io_services_utils:Socket connected: <socket.socket fd=75, family=2, type=1, proto=6, laddr=('127.0.0.1', 43998), raddr=('127.0.0.1', 5672)>\n",
      "INFO:pika.adapters.utils.connection_workflow:Streaming transport linked up: (<pika.adapters.utils.io_services_utils._AsyncPlaintextTransport object at 0x7fed62f1f590>, _StreamingProtocolShim: <SelectConnection PROTOCOL transport=<pika.adapters.utils.io_services_utils._AsyncPlaintextTransport object at 0x7fed62f1f590> params=<ConnectionParameters host=localhost port=5672 virtual_host=/ ssl=False>>).\n",
      "INFO:pika.adapters.utils.connection_workflow:AMQPConnector - reporting success: <SelectConnection OPEN transport=<pika.adapters.utils.io_services_utils._AsyncPlaintextTransport object at 0x7fed62f1f590> params=<ConnectionParameters host=localhost port=5672 virtual_host=/ ssl=False>>\n",
      "INFO:pika.adapters.utils.connection_workflow:AMQPConnectionWorkflow - reporting success: <SelectConnection OPEN transport=<pika.adapters.utils.io_services_utils._AsyncPlaintextTransport object at 0x7fed62f1f590> params=<ConnectionParameters host=localhost port=5672 virtual_host=/ ssl=False>>\n",
      "INFO:pika.adapters.blocking_connection:Connection workflow succeeded: <SelectConnection OPEN transport=<pika.adapters.utils.io_services_utils._AsyncPlaintextTransport object at 0x7fed62f1f590> params=<ConnectionParameters host=localhost port=5672 virtual_host=/ ssl=False>>\n",
      "INFO:pika.adapters.blocking_connection:Created channel=1\n"
     ]
    },
    {
     "name": "stdout",
     "output_type": "stream",
     "text": [
      "Connection established successfully.\n"
     ]
    },
    {
     "ename": "AttributeError",
     "evalue": "'Application' object has no attribute '_create_time_status_publisher'",
     "output_type": "error",
     "traceback": [
      "\u001b[0;31m---------------------------------------------------------------------------\u001b[0m",
      "\u001b[0;31mAttributeError\u001b[0m                            Traceback (most recent call last)",
      "Cell \u001b[0;32mIn[3], line 31\u001b[0m\n\u001b[1;32m     27\u001b[0m app\u001b[38;5;241m.\u001b[39msimulator\u001b[38;5;241m.\u001b[39madd_observer(ShutDownObserver(app))\n\u001b[1;32m     29\u001b[0m \u001b[38;5;66;03m# start up the manager on PREFIX from config file\u001b[39;00m\n\u001b[1;32m     30\u001b[0m \u001b[38;5;66;03m# manager.start_up(PREFIX, config, True)\u001b[39;00m\n\u001b[0;32m---> 31\u001b[0m \u001b[43mapp\u001b[49m\u001b[38;5;241;43m.\u001b[39;49m\u001b[43mstart_up\u001b[49m\u001b[43m(\u001b[49m\u001b[43mPREFIX\u001b[49m\u001b[43m,\u001b[49m\u001b[43m \u001b[49m\u001b[43mconfig\u001b[49m\u001b[43m,\u001b[49m\u001b[43m \u001b[49m\u001b[38;5;28;43;01mTrue\u001b[39;49;00m\u001b[43m)\u001b[49m\n",
      "File \u001b[0;32m/mnt/c/Users/emgonz38/OneDrive - Arizona State University/ubuntu_files/work/code/git_repos/forks/nost-tools/nost_tools/application.py:163\u001b[0m, in \u001b[0;36mApplication.start_up\u001b[0;34m(self, prefix, config, set_offset, time_status_step, time_status_init, shut_down_when_terminated)\u001b[0m\n\u001b[1;32m    160\u001b[0m \u001b[38;5;28mself\u001b[39m\u001b[38;5;241m.\u001b[39mchannel \u001b[38;5;241m=\u001b[39m \u001b[38;5;28mself\u001b[39m\u001b[38;5;241m.\u001b[39mconnection\u001b[38;5;241m.\u001b[39mchannel()\n\u001b[1;32m    162\u001b[0m \u001b[38;5;66;03m# Configure observers\u001b[39;00m\n\u001b[0;32m--> 163\u001b[0m \u001b[38;5;28;43mself\u001b[39;49m\u001b[38;5;241;43m.\u001b[39;49m\u001b[43m_create_time_status_publisher\u001b[49m(time_status_step, time_status_init) \u001b[38;5;66;03m#, channel)\u001b[39;00m\n\u001b[1;32m    164\u001b[0m \u001b[38;5;28mself\u001b[39m\u001b[38;5;241m.\u001b[39m_create_mode_status_observer() \u001b[38;5;66;03m#channel)\u001b[39;00m\n\u001b[1;32m    165\u001b[0m \u001b[38;5;28;01mif\u001b[39;00m shut_down_when_terminated:\n",
      "\u001b[0;31mAttributeError\u001b[0m: 'Application' object has no attribute '_create_time_status_publisher'"
     ]
    }
   ],
   "source": [
    "# Note that these are loaded from a .env file in current working directory\n",
    "credentials = dotenv_values(\".env\")\n",
    "HOST, PORT = credentials[\"HOST\"], int(credentials[\"PORT\"])\n",
    "USERNAME, PASSWORD = credentials[\"USERNAME\"], credentials[\"PASSWORD\"]\n",
    "CLIENT_ID = credentials[\"CLIENT_ID\"]\n",
    "CLIENT_SECRET_KEY = credentials[\"CLIENT_SECRET_KEY\"]\n",
    "VIRTUAL_HOST = credentials[\"VIRTUAL_HOST\"]\n",
    "IS_TLS = credentials[\"IS_TLS\"]\n",
    "\n",
    "# set the client credentials from the config file\n",
    "config = ConnectionConfig(\n",
    "    USERNAME,\n",
    "    PASSWORD,\n",
    "    HOST,\n",
    "    PORT,\n",
    "    CLIENT_ID,\n",
    "    CLIENT_SECRET_KEY,\n",
    "    VIRTUAL_HOST,\n",
    "    IS_TLS)\n",
    "\n",
    "# create the manager application from the template in the tools library\n",
    "# manager = Manager()\n",
    "app = application.Application(app_name='emmanuel')\n",
    "\n",
    "# add a shutdown observer to shut down after a single test case\n",
    "# manager.simulator.add_observer(ShutDownObserver(manager))\n",
    "app.simulator.add_observer(ShutDownObserver(app))\n",
    "\n",
    "# start up the manager on PREFIX from config file\n",
    "# manager.start_up(PREFIX, config, True)\n",
    "app.start_up(PREFIX, config, True)"
   ]
  },
  {
   "cell_type": "code",
   "execution_count": null,
   "metadata": {},
   "outputs": [],
   "source": [
    "app.ready()"
   ]
  },
  {
   "cell_type": "code",
   "execution_count": null,
   "metadata": {},
   "outputs": [],
   "source": []
  }
 ],
 "metadata": {
  "kernelspec": {
   "display_name": "nost",
   "language": "python",
   "name": "python3"
  },
  "language_info": {
   "codemirror_mode": {
    "name": "ipython",
    "version": 3
   },
   "file_extension": ".py",
   "mimetype": "text/x-python",
   "name": "python",
   "nbconvert_exporter": "python",
   "pygments_lexer": "ipython3",
   "version": "3.12.4"
  }
 },
 "nbformat": 4,
 "nbformat_minor": 2
}
